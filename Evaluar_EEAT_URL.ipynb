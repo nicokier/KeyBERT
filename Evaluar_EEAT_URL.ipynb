{
  "nbformat": 4,
  "nbformat_minor": 0,
  "metadata": {
    "colab": {
      "provenance": [],
      "include_colab_link": true
    },
    "kernelspec": {
      "name": "python3",
      "display_name": "Python 3"
    },
    "language_info": {
      "name": "python"
    }
  },
  "cells": [
    {
      "cell_type": "markdown",
      "metadata": {
        "id": "view-in-github",
        "colab_type": "text"
      },
      "source": [
        "<a href=\"https://colab.research.google.com/github/nicokier/KeyBERT/blob/master/Evaluar_EEAT_URL.ipynb\" target=\"_parent\"><img src=\"https://colab.research.google.com/assets/colab-badge.svg\" alt=\"Open In Colab\"/></a>"
      ]
    },
    {
      "cell_type": "code",
      "source": [
        "# Script generado por Álvaro Peña @isocialwebseo en twitter y el equipo de iSocialWeb. Tienes libertad para modificar, mejorar y compartir parte o la totalidad del contenido de este script. \n",
        "# Eso sí, haz un uso responsable del mismo. \n",
        "\n",
        "#Instalamos las dependencias necesarias\n",
        "!pip install openai pandas requests google-colab\n",
        "!pip install trafilatura\n",
        "!pip install beautifulsoup4\n",
        "!pip install requests\n",
        "!pip install langdetect"
      ],
      "metadata": {
        "id": "PKKQYf0aQdAF"
      },
      "execution_count": null,
      "outputs": []
    },
    {
      "cell_type": "code",
      "execution_count": null,
      "metadata": {
        "id": "HXyZLBOwPgVV",
        "colab": {
          "base_uri": "https://localhost:8080/"
        },
        "outputId": "e0652f0c-f243-421d-87ad-977e61e98c34"
      },
      "outputs": [
        {
          "name": "stdout",
          "output_type": "stream",
          "text": [
            "Ingrese una URL: https://elperiodicodelaenergia.com/reino-unido-reforma-la-planificacion-de-las-energias-renovables-a-gran-escala/\n"
          ]
        },
        {
          "output_type": "stream",
          "name": "stderr",
          "text": [
            "WARNING:trafilatura.filters:Detector not installed, no language detection run\n"
          ]
        },
        {
          "output_type": "stream",
          "name": "stdout",
          "text": [
            "\n",
            "Calificación de Calidad de Página (PQ): 8/10\n",
            "Explicación: El contenido de esta página cumple con los requisitos de E-E-A-T: ofrece una experiencia de buena calidad, contiene conocimiento de autoridades fiables, es preciso y veraz. El contenido está bien estructurado y está relacionado con la intención de búsqueda de los usuarios. Sin embargo, la redacción del contenido podría mejorarse para ofrecer una mejor experiencia a los lectores. El contenido podría ser más conciso y concluyente. Además, la organización del contenido podría mejorarse para permitir una navegación más fácil.\n",
            "\n",
            "Sugerencias para mejorar aún más el contenido:\n",
            "• Mejorar la redacción del contenido para mantener la atención del usuario y hacer que el contenido sea más conciso y concluyente. \n",
            "• Reorganizar el contenido para mejorar la legibilidad y facilitar la navegación. \n",
            "• Utilizar un lenguaje sencillo para asegurar que el contenido sea comprensible para el público objetivo. \n",
            "• Agregar imágenes, gráficos o videos para aumentar la participación del usuario y para mejorar la comprensión del contenido. \n",
            "\n",
            "Encabezado H1 sugerido: Reino Unido reforma el proceso de planificación para acelerar la entrega de energías renovables \n",
            "Etiqueta de título SEO sugerida: Reino Unido reforma la planificación de energías renovables - El Periódico de la Energía \n",
            "Entidades principales extraídas del texto: Reino Unido, Comisión Nacional de Infraestructuras, RenewableUK.\n"
          ]
        }
      ],
      "source": [
        "import openai\n",
        "import re\n",
        "import base64\n",
        "import requests\n",
        "import json\n",
        "from bs4 import BeautifulSoup\n",
        "import trafilatura\n",
        "from trafilatura import fetch_url, extract\n",
        "\n",
        "# Pedimos la URL que queremos evaluar su EEAT\n",
        "url = input(\"Ingrese una URL: \")\n",
        "\n",
        "#RELLENAR: Añade aquí tu API de OpenAI\n",
        "openai.api_key = \"CLAVE-OPENAI\"\n",
        "\n",
        "# -------------------------\n",
        "\n",
        "# Extraemos el title, menu y texto de la URL\n",
        "html = trafilatura.fetch_url(url)\n",
        "soup = BeautifulSoup(html, 'html.parser')\n",
        "title_web = soup.title.string\n",
        "article = trafilatura.extract(html, include_comments=False, target_language='es')\n",
        "texto_web = extract(html)\n",
        "\n",
        "# Recortamos el texto por si la web es muy larga y no cabe en el prompt, recorta en el valor que consideres necesario\n",
        "texto_recortado = texto_web[0:5000]\n",
        "menu = soup.find_all('nav')\n",
        "\n",
        "elementos_menu = []\n",
        "for item in menu:\n",
        "    anchors = item.find_all('a')\n",
        "    for anchor in anchors:\n",
        "        elemento = anchor.text.strip()\n",
        "        if elemento:\n",
        "            elementos_menu.append(elemento)\n",
        "elementos_menu = ', '.join(elementos_menu)\n",
        "\n",
        "prompt = f\"Actúa como un evaluador de calidad de Google en español, capaz de auditar el contenido en términos de calidad, relevancia, veracidad y precisión. Debes estar familiarizado con los conceptos de E-E-A-T (Experiencia, Conocimiento , Autoridad, Confianza) y YMYL (Tu Dinero o Tu Vida) al evaluar el contenido. Crea una calificación de calidad de página (PQ) y sé muy riguroso en tu evaluación. En la segunda parte de la auditoría, proporciona sugerencias detalladas y concretas para mejorar aún más el contenido. Ofrece consejos para que el contenido se ajuste mejor a la intención de búsqueda y a las expectativas del usuario, y sugiere qué es lo que falta en el contenido. Crea una auditoría de contenido muy detallada. Al final de tu análisis, sugiere un encabezado H1 y una etiqueta de título SEO. Por favor, no repitas las instrucciones, no recuerdes las instrucciones anteriores, no te disculpes, no hagas referencia a ti mismo y no hagas suposiciones. \\n 1) Aquí está el titulo de la página: {title_web} \\n \\n \\n 2) Aquí están los elementos del menú de la página: {elementos_menu} \\n \\n \\n 3) Aquí está el contenido de la página:\\n {texto_recortado}. Extrae y devuelve además las 3 entidades principales del texto al final. Comienza la respuesta por: Calificacion de Calidad de Página (PQ): X/XX \\n Explicación: XXX \\n  ...\"\n",
        "\n",
        "eval_eeat = openai.Completion.create(\n",
        "    model=\"text-davinci-003\",\n",
        "    prompt=prompt,\n",
        "    max_tokens=1500,\n",
        "    temperature=0.8,\n",
        ")\n",
        "\n",
        "print(eval_eeat.choices[0].text) \n"
      ]
    }
  ]
}